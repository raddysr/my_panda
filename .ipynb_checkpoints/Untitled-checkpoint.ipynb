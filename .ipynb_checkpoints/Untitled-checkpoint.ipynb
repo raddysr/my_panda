{
 "cells": [
  {
   "cell_type": "code",
   "execution_count": 1,
   "id": "d933508d",
   "metadata": {},
   "outputs": [],
   "source": [
    "%load_ext autoreload\n",
    "%autoreload 2\n"
   ]
  },
  {
   "cell_type": "code",
   "execution_count": 4,
   "id": "1daceda2",
   "metadata": {},
   "outputs": [
    {
     "ename": "NameError",
     "evalue": "name 'heightght' is not defined",
     "output_type": "error",
     "traceback": [
      "\u001b[0;31m---------------------------------------------------------------------------\u001b[0m",
      "\u001b[0;31mNameError\u001b[0m                                 Traceback (most recent call last)",
      "\u001b[0;32m<ipython-input-4-c5c2ce84ec81>\u001b[0m in \u001b[0;36m<module>\u001b[0;34m\u001b[0m\n\u001b[1;32m     12\u001b[0m data = {'name':name, \n\u001b[1;32m     13\u001b[0m         \u001b[0;34m'state'\u001b[0m\u001b[0;34m:\u001b[0m \u001b[0mstate\u001b[0m\u001b[0;34m,\u001b[0m\u001b[0;34m\u001b[0m\u001b[0;34m\u001b[0m\u001b[0m\n\u001b[0;32m---> 14\u001b[0;31m         \u001b[0;34m'height'\u001b[0m\u001b[0;34m:\u001b[0m\u001b[0mheightght\u001b[0m\u001b[0;34m,\u001b[0m\u001b[0;34m\u001b[0m\u001b[0;34m\u001b[0m\u001b[0m\n\u001b[0m\u001b[1;32m     15\u001b[0m         \u001b[0;34m'school'\u001b[0m\u001b[0;34m:\u001b[0m\u001b[0mschool\u001b[0m\u001b[0;34m,\u001b[0m\u001b[0;34m\u001b[0m\u001b[0;34m\u001b[0m\u001b[0m\n\u001b[1;32m     16\u001b[0m         'weight':weight}\n",
      "\u001b[0;31mNameError\u001b[0m: name 'heightght' is not defined"
     ]
    }
   ],
   "source": [
    "import pandas as pd\n",
    "import numpy as np\n",
    "import radanda as rda\n",
    "\n",
    "\n",
    "name = np.array(['Ivan', 'Petkan', 'Dragan'])\n",
    "state = np.array(['Petrich', 'Kazanlak', 'Ruse'])\n",
    "height = np.array([1.6, 1.7, 1.8])\n",
    "school = np.array([True, False, False])\n",
    "weight = np.array([90, 100, 120])\n",
    "\n",
    "data = {'name':name, \n",
    "        'state': state, \n",
    "        'height':height, \n",
    "        'school':school, \n",
    "        'weight':weight}\n",
    "df = rda.DataFrame(data)"
   ]
  },
  {
   "cell_type": "code",
   "execution_count": null,
   "id": "e0e01036",
   "metadata": {},
   "outputs": [],
   "source": []
  }
 ],
 "metadata": {
  "kernelspec": {
   "display_name": "Python 3",
   "language": "python",
   "name": "python3"
  },
  "language_info": {
   "codemirror_mode": {
    "name": "ipython",
    "version": 3
   },
   "file_extension": ".py",
   "mimetype": "text/x-python",
   "name": "python",
   "nbconvert_exporter": "python",
   "pygments_lexer": "ipython3",
   "version": "3.8.10"
  }
 },
 "nbformat": 4,
 "nbformat_minor": 5
}
